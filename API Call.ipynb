{
 "cells": [
  {
   "cell_type": "code",
   "execution_count": 14,
   "metadata": {
    "collapsed": true
   },
   "outputs": [],
   "source": [
    "import requests\n",
    "import numpy as np\n",
    "import pandas as pd\n",
    "import json"
   ]
  },
  {
   "cell_type": "code",
   "execution_count": 3,
   "metadata": {},
   "outputs": [],
   "source": [
    "response = requests.get(\"https://api.census.gov/data/timeseries/bds/firms/geography.json\")"
   ]
  },
  {
   "cell_type": "code",
   "execution_count": 4,
   "metadata": {},
   "outputs": [
    {
     "name": "stdout",
     "output_type": "stream",
     "text": [
      "200\n"
     ]
    }
   ],
   "source": [
    "print(response.status_code)"
   ]
  },
  {
   "cell_type": "markdown",
   "metadata": {},
   "source": [
    "API Status Codes\n",
    "Status codes are returned with every request that is made to a web server. Status codes indicate information about what happened with a request. Here are some codes that are relevant to GET requests:\n",
    "\n",
    "1. 200: Everything went okay, and the result has been returned (if any).\n",
    "2. 301: The server is redirecting you to a different endpoint. This can happen when a company switches domain names, or an endpoint name is changed.\n",
    "3. 400: The server thinks you made a bad request. This can happen when you don’t send along the right data, among other things.\n",
    "4. 401: The server thinks you’re not authenticated. Many APIs require login ccredentials, so this happens when you don’t send the right credentials to access an API.\n",
    "5. 403: The resource you’re trying to access is forbidden: you don’t have the right permissions to see it.\n",
    "6. 404: The resource you tried to access wasn’t found on the server.\n",
    "7. 503: The server is not ready to handle the request."
   ]
  },
  {
   "cell_type": "code",
   "execution_count": 5,
   "metadata": {},
   "outputs": [
    {
     "name": "stdout",
     "output_type": "stream",
     "text": [
      "{'fips': [{'name': 'us', 'geoLevelId': '010', 'referenceDate': '2012-01-01'}, {'name': 'metropolitan statistical area', 'geoLevelId': '310'}, {'name': 'state', 'geoLevelId': '040', 'referenceDate': '2012-01-01'}]}\n"
     ]
    }
   ],
   "source": [
    "print(response.json())"
   ]
  },
  {
   "cell_type": "code",
   "execution_count": 30,
   "metadata": {},
   "outputs": [
    {
     "name": "stdout",
     "output_type": "stream",
     "text": [
      "{\n",
      "      \"fips\": [\n",
      "            {\n",
      "                  \"geoLevelId\": \"010\",\n",
      "                  \"name\": \"us\",\n",
      "                  \"referenceDate\": \"2012-01-01\"\n",
      "            },\n",
      "            {\n",
      "                  \"geoLevelId\": \"310\",\n",
      "                  \"name\": \"metropolitan statistical area\"\n",
      "            },\n",
      "            {\n",
      "                  \"geoLevelId\": \"040\",\n",
      "                  \"name\": \"state\",\n",
      "                  \"referenceDate\": \"2012-01-01\"\n",
      "            }\n",
      "      ]\n",
      "}\n"
     ]
    }
   ],
   "source": [
    "import json\n",
    "\n",
    "def jprint(obj):\n",
    "    # create a formatted string of the Python JSON object\n",
    "    text = json.dumps(obj, sort_keys=True, indent=6)\n",
    "    print(text)\n",
    "\n",
    "jprint(response.json())"
   ]
  },
  {
   "cell_type": "code",
   "execution_count": 10,
   "metadata": {},
   "outputs": [
    {
     "data": {
      "text/html": [
       "<div>\n",
       "<style>\n",
       "    .dataframe thead tr:only-child th {\n",
       "        text-align: right;\n",
       "    }\n",
       "\n",
       "    .dataframe thead th {\n",
       "        text-align: left;\n",
       "    }\n",
       "\n",
       "    .dataframe tbody tr th {\n",
       "        vertical-align: top;\n",
       "    }\n",
       "</style>\n",
       "<table border=\"1\" class=\"dataframe\">\n",
       "  <thead>\n",
       "    <tr style=\"text-align: right;\">\n",
       "      <th></th>\n",
       "      <th>fips</th>\n",
       "    </tr>\n",
       "  </thead>\n",
       "  <tbody>\n",
       "    <tr>\n",
       "      <th>0</th>\n",
       "      <td>{'name': 'us', 'geoLevelId': '010', 'reference...</td>\n",
       "    </tr>\n",
       "    <tr>\n",
       "      <th>1</th>\n",
       "      <td>{'name': 'metropolitan statistical area', 'geo...</td>\n",
       "    </tr>\n",
       "    <tr>\n",
       "      <th>2</th>\n",
       "      <td>{'name': 'state', 'geoLevelId': '040', 'refere...</td>\n",
       "    </tr>\n",
       "  </tbody>\n",
       "</table>\n",
       "</div>"
      ],
      "text/plain": [
       "                                                fips\n",
       "0  {'name': 'us', 'geoLevelId': '010', 'reference...\n",
       "1  {'name': 'metropolitan statistical area', 'geo...\n",
       "2  {'name': 'state', 'geoLevelId': '040', 'refere..."
      ]
     },
     "execution_count": 10,
     "metadata": {},
     "output_type": "execute_result"
    }
   ],
   "source": [
    "import pandas as pd \n",
    "pd.read_json(json.dumps(response.json()))"
   ]
  },
  {
   "cell_type": "code",
   "execution_count": 11,
   "metadata": {},
   "outputs": [
    {
     "data": {
      "text/html": [
       "<div>\n",
       "<style>\n",
       "    .dataframe thead tr:only-child th {\n",
       "        text-align: right;\n",
       "    }\n",
       "\n",
       "    .dataframe thead th {\n",
       "        text-align: left;\n",
       "    }\n",
       "\n",
       "    .dataframe tbody tr th {\n",
       "        vertical-align: top;\n",
       "    }\n",
       "</style>\n",
       "<table border=\"1\" class=\"dataframe\">\n",
       "  <thead>\n",
       "    <tr style=\"text-align: right;\">\n",
       "      <th></th>\n",
       "      <th>fips</th>\n",
       "    </tr>\n",
       "  </thead>\n",
       "  <tbody>\n",
       "    <tr>\n",
       "      <th>0</th>\n",
       "      <td>{'name': 'us', 'geoLevelId': '010', 'reference...</td>\n",
       "    </tr>\n",
       "    <tr>\n",
       "      <th>1</th>\n",
       "      <td>{'name': 'metropolitan statistical area', 'geo...</td>\n",
       "    </tr>\n",
       "    <tr>\n",
       "      <th>2</th>\n",
       "      <td>{'name': 'state', 'geoLevelId': '040', 'refere...</td>\n",
       "    </tr>\n",
       "  </tbody>\n",
       "</table>\n",
       "</div>"
      ],
      "text/plain": [
       "                                                fips\n",
       "0  {'name': 'us', 'geoLevelId': '010', 'reference...\n",
       "1  {'name': 'metropolitan statistical area', 'geo...\n",
       "2  {'name': 'state', 'geoLevelId': '040', 'refere..."
      ]
     },
     "execution_count": 11,
     "metadata": {},
     "output_type": "execute_result"
    }
   ],
   "source": [
    "pd.read_json(\"https://api.census.gov/data/timeseries/bds/firms/geography.json\")"
   ]
  },
  {
   "cell_type": "code",
   "execution_count": 13,
   "metadata": {},
   "outputs": [
    {
     "data": {
      "text/html": [
       "<div>\n",
       "<style>\n",
       "    .dataframe thead tr:only-child th {\n",
       "        text-align: right;\n",
       "    }\n",
       "\n",
       "    .dataframe thead th {\n",
       "        text-align: left;\n",
       "    }\n",
       "\n",
       "    .dataframe tbody tr th {\n",
       "        vertical-align: top;\n",
       "    }\n",
       "</style>\n",
       "<table border=\"1\" class=\"dataframe\">\n",
       "  <thead>\n",
       "    <tr style=\"text-align: right;\">\n",
       "      <th></th>\n",
       "      <th>fips</th>\n",
       "    </tr>\n",
       "  </thead>\n",
       "  <tbody>\n",
       "    <tr>\n",
       "      <th>0</th>\n",
       "      <td>{'name': 'us', 'geoLevelId': '010', 'reference...</td>\n",
       "    </tr>\n",
       "    <tr>\n",
       "      <th>1</th>\n",
       "      <td>{'name': 'metropolitan statistical area', 'geo...</td>\n",
       "    </tr>\n",
       "    <tr>\n",
       "      <th>2</th>\n",
       "      <td>{'name': 'state', 'geoLevelId': '040', 'refere...</td>\n",
       "    </tr>\n",
       "  </tbody>\n",
       "</table>\n",
       "</div>"
      ],
      "text/plain": [
       "                                                fips\n",
       "0  {'name': 'us', 'geoLevelId': '010', 'reference...\n",
       "1  {'name': 'metropolitan statistical area', 'geo...\n",
       "2  {'name': 'state', 'geoLevelId': '040', 'refere..."
      ]
     },
     "execution_count": 13,
     "metadata": {},
     "output_type": "execute_result"
    }
   ],
   "source": [
    "pd.DataFrame(response.json())"
   ]
  },
  {
   "cell_type": "code",
   "execution_count": 16,
   "metadata": {},
   "outputs": [],
   "source": [
    "url = 'https://api.census.gov/data/timeseries/bds/firms'\n",
    "response  = requests.get('https://api.census.gov/data/timeseries/bds/firms/geography.json')\n",
    "data = response.json()\n",
    "\n"
   ]
  },
  {
   "cell_type": "code",
   "execution_count": 19,
   "metadata": {},
   "outputs": [
    {
     "data": {
      "text/plain": [
       "{'fips': [{'geoLevelId': '010', 'name': 'us', 'referenceDate': '2012-01-01'},\n",
       "  {'geoLevelId': '310', 'name': 'metropolitan statistical area'},\n",
       "  {'geoLevelId': '040', 'name': 'state', 'referenceDate': '2012-01-01'}]}"
      ]
     },
     "execution_count": 19,
     "metadata": {},
     "output_type": "execute_result"
    }
   ],
   "source": [
    "data"
   ]
  },
  {
   "cell_type": "code",
   "execution_count": 22,
   "metadata": {},
   "outputs": [
    {
     "name": "stdout",
     "output_type": "stream",
     "text": [
      "fips\n"
     ]
    }
   ],
   "source": [
    "for item in data:\n",
    "    print(item)"
   ]
  },
  {
   "cell_type": "code",
   "execution_count": 26,
   "metadata": {},
   "outputs": [
    {
     "data": {
      "text/plain": [
       "{'geoLevelId': '010', 'name': 'us', 'referenceDate': '2012-01-01'}"
      ]
     },
     "execution_count": 26,
     "metadata": {},
     "output_type": "execute_result"
    }
   ],
   "source": [
    "data['fips'][0]"
   ]
  },
  {
   "cell_type": "code",
   "execution_count": 27,
   "metadata": {},
   "outputs": [
    {
     "data": {
      "text/html": [
       "<div>\n",
       "<style>\n",
       "    .dataframe thead tr:only-child th {\n",
       "        text-align: right;\n",
       "    }\n",
       "\n",
       "    .dataframe thead th {\n",
       "        text-align: left;\n",
       "    }\n",
       "\n",
       "    .dataframe tbody tr th {\n",
       "        vertical-align: top;\n",
       "    }\n",
       "</style>\n",
       "<table border=\"1\" class=\"dataframe\">\n",
       "  <thead>\n",
       "    <tr style=\"text-align: right;\">\n",
       "      <th></th>\n",
       "      <th>geoLevelId</th>\n",
       "      <th>name</th>\n",
       "      <th>referenceDate</th>\n",
       "    </tr>\n",
       "  </thead>\n",
       "  <tbody>\n",
       "    <tr>\n",
       "      <th>0</th>\n",
       "      <td>010</td>\n",
       "      <td>us</td>\n",
       "      <td>2012-01-01</td>\n",
       "    </tr>\n",
       "    <tr>\n",
       "      <th>1</th>\n",
       "      <td>310</td>\n",
       "      <td>metropolitan statistical area</td>\n",
       "      <td>NaN</td>\n",
       "    </tr>\n",
       "    <tr>\n",
       "      <th>2</th>\n",
       "      <td>040</td>\n",
       "      <td>state</td>\n",
       "      <td>2012-01-01</td>\n",
       "    </tr>\n",
       "  </tbody>\n",
       "</table>\n",
       "</div>"
      ],
      "text/plain": [
       "  geoLevelId                           name referenceDate\n",
       "0        010                             us    2012-01-01\n",
       "1        310  metropolitan statistical area           NaN\n",
       "2        040                          state    2012-01-01"
      ]
     },
     "execution_count": 27,
     "metadata": {},
     "output_type": "execute_result"
    }
   ],
   "source": [
    "pd.DataFrame(data['fips'])"
   ]
  },
  {
   "cell_type": "code",
   "execution_count": 49,
   "metadata": {
    "collapsed": true
   },
   "outputs": [],
   "source": [
    "response2 = requests.get(\"https://project-open-data.cio.gov/v1.1/schema/catalog.json\")"
   ]
  },
  {
   "cell_type": "code",
   "execution_count": 50,
   "metadata": {},
   "outputs": [
    {
     "name": "stdout",
     "output_type": "stream",
     "text": [
      "{\n",
      "      \"$schema\": \"http://json-schema.org/draft-04/schema#\",\n",
      "      \"dependencies\": {\n",
      "            \"@type\": [\n",
      "                  \"@context\"\n",
      "            ]\n",
      "      },\n",
      "      \"description\": \"Validates an entire collection of Project Open Data metadata JSON objects. Agencies produce said collections in the form of Data.json files.\",\n",
      "      \"id\": \"https://project-open-data.cio.gov/v1.1/schema/catalog.json#\",\n",
      "      \"properties\": {\n",
      "            \"@context\": {\n",
      "                  \"description\": \"URL or JSON object for the JSON-LD Context that defines the schema used\",\n",
      "                  \"format\": \"uri\",\n",
      "                  \"title\": \"Metadata Context\",\n",
      "                  \"type\": \"string\"\n",
      "            },\n",
      "            \"@id\": {\n",
      "                  \"description\": \"IRI for the JSON-LD Node Identifier of the Catalog. This should be the URL of the data.json file itself.\",\n",
      "                  \"format\": \"uri\",\n",
      "                  \"title\": \"Metadata Catalog ID\",\n",
      "                  \"type\": \"string\"\n",
      "            },\n",
      "            \"@type\": {\n",
      "                  \"description\": \"IRI for the JSON-LD data type. This should be dcat:Catalog for the Catalog\",\n",
      "                  \"enum\": [\n",
      "                        \"dcat:Catalog\"\n",
      "                  ],\n",
      "                  \"title\": \"Metadata Context\"\n",
      "            },\n",
      "            \"conformsTo\": {\n",
      "                  \"description\": \"Version of Schema\",\n",
      "                  \"enum\": [\n",
      "                        \"https://project-open-data.cio.gov/v1.1/schema\"\n",
      "                  ],\n",
      "                  \"title\": \"Version of Schema\"\n",
      "            },\n",
      "            \"dataset\": {\n",
      "                  \"items\": {\n",
      "                        \"$ref\": \"dataset.json\",\n",
      "                        \"minItems\": 1,\n",
      "                        \"uniqueItems\": true\n",
      "                  },\n",
      "                  \"type\": \"array\"\n",
      "            },\n",
      "            \"describedBy\": {\n",
      "                  \"description\": \"URL for the JSON Schema file that defines the schema used\",\n",
      "                  \"format\": \"uri\",\n",
      "                  \"title\": \"Data Dictionary\",\n",
      "                  \"type\": \"string\"\n",
      "            }\n",
      "      },\n",
      "      \"required\": [\n",
      "            \"conformsTo\",\n",
      "            \"dataset\"\n",
      "      ],\n",
      "      \"title\": \"Project Open Data Catalog\",\n",
      "      \"type\": \"object\"\n",
      "}\n"
     ]
    }
   ],
   "source": [
    "jprint(response2.json())"
   ]
  },
  {
   "cell_type": "code",
   "execution_count": 51,
   "metadata": {
    "collapsed": true
   },
   "outputs": [],
   "source": [
    "data = response2.json()"
   ]
  },
  {
   "cell_type": "code",
   "execution_count": 52,
   "metadata": {},
   "outputs": [
    {
     "data": {
      "text/plain": [
       "{'$schema': 'http://json-schema.org/draft-04/schema#',\n",
       " 'dependencies': {'@type': ['@context']},\n",
       " 'description': 'Validates an entire collection of Project Open Data metadata JSON objects. Agencies produce said collections in the form of Data.json files.',\n",
       " 'id': 'https://project-open-data.cio.gov/v1.1/schema/catalog.json#',\n",
       " 'properties': {'@context': {'description': 'URL or JSON object for the JSON-LD Context that defines the schema used',\n",
       "   'format': 'uri',\n",
       "   'title': 'Metadata Context',\n",
       "   'type': 'string'},\n",
       "  '@id': {'description': 'IRI for the JSON-LD Node Identifier of the Catalog. This should be the URL of the data.json file itself.',\n",
       "   'format': 'uri',\n",
       "   'title': 'Metadata Catalog ID',\n",
       "   'type': 'string'},\n",
       "  '@type': {'description': 'IRI for the JSON-LD data type. This should be dcat:Catalog for the Catalog',\n",
       "   'enum': ['dcat:Catalog'],\n",
       "   'title': 'Metadata Context'},\n",
       "  'conformsTo': {'description': 'Version of Schema',\n",
       "   'enum': ['https://project-open-data.cio.gov/v1.1/schema'],\n",
       "   'title': 'Version of Schema'},\n",
       "  'dataset': {'items': {'$ref': 'dataset.json',\n",
       "    'minItems': 1,\n",
       "    'uniqueItems': True},\n",
       "   'type': 'array'},\n",
       "  'describedBy': {'description': 'URL for the JSON Schema file that defines the schema used',\n",
       "   'format': 'uri',\n",
       "   'title': 'Data Dictionary',\n",
       "   'type': 'string'}},\n",
       " 'required': ['conformsTo', 'dataset'],\n",
       " 'title': 'Project Open Data Catalog',\n",
       " 'type': 'object'}"
      ]
     },
     "execution_count": 52,
     "metadata": {},
     "output_type": "execute_result"
    }
   ],
   "source": [
    "data"
   ]
  },
  {
   "cell_type": "code",
   "execution_count": 54,
   "metadata": {},
   "outputs": [
    {
     "data": {
      "text/html": [
       "<div>\n",
       "<style>\n",
       "    .dataframe thead tr:only-child th {\n",
       "        text-align: right;\n",
       "    }\n",
       "\n",
       "    .dataframe thead th {\n",
       "        text-align: left;\n",
       "    }\n",
       "\n",
       "    .dataframe tbody tr th {\n",
       "        vertical-align: top;\n",
       "    }\n",
       "</style>\n",
       "<table border=\"1\" class=\"dataframe\">\n",
       "  <thead>\n",
       "    <tr style=\"text-align: right;\">\n",
       "      <th></th>\n",
       "      <th>@type</th>\n",
       "    </tr>\n",
       "  </thead>\n",
       "  <tbody>\n",
       "    <tr>\n",
       "      <th>0</th>\n",
       "      <td>@context</td>\n",
       "    </tr>\n",
       "  </tbody>\n",
       "</table>\n",
       "</div>"
      ],
      "text/plain": [
       "      @type\n",
       "0  @context"
      ]
     },
     "execution_count": 54,
     "metadata": {},
     "output_type": "execute_result"
    }
   ],
   "source": [
    "pd.DataFrame(data[\"dependencies\"])"
   ]
  },
  {
   "cell_type": "code",
   "execution_count": null,
   "metadata": {
    "collapsed": true
   },
   "outputs": [],
   "source": []
  }
 ],
 "metadata": {
  "kernelspec": {
   "display_name": "Python 3",
   "language": "python",
   "name": "python3"
  },
  "language_info": {
   "codemirror_mode": {
    "name": "ipython",
    "version": 3
   },
   "file_extension": ".py",
   "mimetype": "text/x-python",
   "name": "python",
   "nbconvert_exporter": "python",
   "pygments_lexer": "ipython3",
   "version": "3.6.1"
  }
 },
 "nbformat": 4,
 "nbformat_minor": 2
}
